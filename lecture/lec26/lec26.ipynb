{
 "cells": [
  {
   "cell_type": "markdown",
   "metadata": {},
   "source": [
    "# Lecture 26 – Data 100, Summer 2025\n",
    "\n",
    "Data 100, Summer 2025\n",
    "\n",
    "[Acknowledgments Page](https://ds100.org/su25/acks/)"
   ]
  },
  {
   "cell_type": "code",
   "execution_count": null,
   "metadata": {},
   "outputs": [],
   "source": [
    "import pandas as pd\n",
    "import numpy as np\n",
    "import seaborn as sns\n",
    "import matplotlib.pyplot as plt\n",
    "import random\n",
    "from sklearn import datasets\n",
    "\n",
    "import warnings\n",
    "warnings.filterwarnings('ignore')"
   ]
  },
  {
   "cell_type": "code",
   "execution_count": null,
   "metadata": {},
   "outputs": [],
   "source": [
    "iris, _ = datasets.load_iris(return_X_y=True, as_frame=True)\n",
    "iris.rename(columns={\"sepal length (cm)\": \"sepal_length\", \"sepal width (cm)\": \"sepal_width\", \n",
    "                     \"petal length (cm)\": \"petal_length\", \"petal width (cm)\": \"petal_width\"}, inplace=True)\n",
    "iris.sample(10)"
   ]
  },
  {
   "cell_type": "markdown",
   "metadata": {},
   "source": [
    "## K-Means Clustering\n",
    "\n",
    "In today's lecture, we will use the data from the `iris` dataset from `sklearn` to perform clustering using two features, `petal_length` and `petal_width.` Summary of the algorithm:\n",
    "- Repeat until convergence:\n",
    "    - Color points according to the closest center.\n",
    "    - Move the center for each color to the center of points with that color.\n"
   ]
  },
  {
   "cell_type": "code",
   "execution_count": null,
   "metadata": {},
   "outputs": [],
   "source": [
    "sns.scatterplot(data=iris, x=\"petal_length\", y=\"petal_width\", color=\"black\")\n",
    "plt.xlabel('x')\n",
    "plt.ylabel('y');"
   ]
  },
  {
   "cell_type": "code",
   "execution_count": null,
   "metadata": {},
   "outputs": [],
   "source": [
    "class Center():\n",
    "    def __init__(self, data):\n",
    "        \"\"\"generates a random center inside the region bounded by the data\"\"\"        \n",
    "        num_dimensions = data.shape[1]\n",
    "        self.coordinates = np.array([0.0] * num_dimensions)\n",
    "        for i in range(num_dimensions):\n",
    "            min_value = np.min(data[:, i])\n",
    "            max_value = np.max(data[:, i])            \n",
    "            random_value = random.uniform(min_value, max_value)            \n",
    "            self.coordinates[i] = random_value\n",
    "    \n",
    "    def __str__(self):\n",
    "        return str(self.coordinates)\n",
    "\n",
    "    def __repr__(self):\n",
    "        return repr(self.coordinates)\n",
    "\n",
    "    def dist(self, data_point):\n",
    "        return np.sqrt(np.sum((self.coordinates - data_point)**2, axis = 1))\n",
    "    \n",
    "    def dist_sq(self, data_point):\n",
    "        return np.sum((self.coordinates - data_point)**2, axis = 1)"
   ]
  },
  {
   "cell_type": "code",
   "execution_count": null,
   "metadata": {},
   "outputs": [],
   "source": [
    "c1 = Center(iris.loc[:, ['petal_length', 'petal_width']].values)\n",
    "c2 = Center(iris.loc[:, ['petal_length', 'petal_width']].values)"
   ]
  },
  {
   "cell_type": "code",
   "execution_count": null,
   "metadata": {},
   "outputs": [],
   "source": [
    "# Force coordinates from the lecture demo\n",
    "c1.coordinates = np.array([2.52364007, 2.31040024])\n",
    "c2.coordinates = np.array([6.53276402, 1.211463])"
   ]
  },
  {
   "cell_type": "code",
   "execution_count": null,
   "metadata": {},
   "outputs": [],
   "source": [
    "def plot_centers_and_black_data(iris, centers):\n",
    "    for center in centers:\n",
    "        plt.plot(center.coordinates[0], center.coordinates[1], '*', markersize=10)    \n",
    "    sns.scatterplot(data=iris, x=\"petal_length\", y=\"petal_width\", color=\"black\")\n",
    "    plt.xlabel('petal_length')\n",
    "    plt.ylabel('petal_width')\n",
    "    legend_text = ['c' + str(i) for i in range(1, len(centers) + 1)]\n",
    "    legend_text.append('data')\n",
    "    plt.legend(legend_text)"
   ]
  },
  {
   "cell_type": "code",
   "execution_count": null,
   "metadata": {},
   "outputs": [],
   "source": [
    "plot_centers_and_black_data(iris, (c1, c2))"
   ]
  },
  {
   "cell_type": "code",
   "execution_count": null,
   "metadata": {},
   "outputs": [],
   "source": [
    "def get_cluster_number(dists):\n",
    "    return np.where(dists == np.min(dists))[0][0]"
   ]
  },
  {
   "cell_type": "code",
   "execution_count": null,
   "metadata": {
    "scrolled": true
   },
   "outputs": [],
   "source": [
    "iris[\"dist1\"] = c1.dist(iris[[\"petal_length\", \"petal_width\"]])\n",
    "iris[\"dist2\"] = c2.dist(iris[[\"petal_length\", \"petal_width\"]])\n",
    "iris[\"cluster\"] = iris[[\"dist1\", \"dist2\"]].apply(get_cluster_number, axis = 1)\n",
    "iris.head(5)"
   ]
  },
  {
   "cell_type": "code",
   "execution_count": null,
   "metadata": {},
   "outputs": [],
   "source": [
    "iris[\"cluster\"].value_counts()"
   ]
  },
  {
   "cell_type": "code",
   "execution_count": null,
   "metadata": {},
   "outputs": [],
   "source": [
    "def plot_centers_and_colorized_data(iris, centers):\n",
    "    plt.figure()\n",
    "    for center in centers:\n",
    "        plt.plot(center.coordinates[0], center.coordinates[1], \n",
    "                 marker='*', markersize=10, linestyle=\"None\")  \n",
    "    current_palette = sns.color_palette()[0:len(centers)]\n",
    "    sns.scatterplot(data=iris, x=\"petal_length\", y=\"petal_width\", hue=\"cluster\", palette=current_palette)  \n",
    "    plt.xlabel('petal_length')\n",
    "    plt.ylabel('petal_width')\n",
    "    legend_text = ['c' + str(i) for i in range(1, len(centers) + 1)]\n",
    "    legend_text.append('data')\n",
    "    plt.legend(legend_text)"
   ]
  },
  {
   "cell_type": "code",
   "execution_count": null,
   "metadata": {},
   "outputs": [],
   "source": [
    "plot_centers_and_colorized_data(iris, (c1, c2))"
   ]
  },
  {
   "cell_type": "code",
   "execution_count": null,
   "metadata": {},
   "outputs": [],
   "source": [
    "average_c1_length = np.mean(iris[iris[\"cluster\"] == 0][\"petal_length\"])\n",
    "average_c1_width = np.mean(iris[iris[\"cluster\"] == 0][\"petal_width\"])\n",
    "c1.coordinates = (average_c1_length, average_c1_width)\n",
    "\n",
    "average_c2_length = np.mean(iris[iris[\"cluster\"] == 1][\"petal_length\"])\n",
    "average_c2_width = np.mean(iris[iris[\"cluster\"] == 1][\"petal_width\"])\n",
    "c2.coordinates = (average_c2_length, average_c2_width)"
   ]
  },
  {
   "cell_type": "code",
   "execution_count": null,
   "metadata": {},
   "outputs": [],
   "source": [
    "plot_centers_and_black_data(iris, (c1, c2))"
   ]
  },
  {
   "cell_type": "code",
   "execution_count": null,
   "metadata": {},
   "outputs": [],
   "source": [
    "iris[\"dist1\"] = c1.dist(iris[[\"petal_length\", \"petal_width\"]])\n",
    "iris[\"dist2\"] = c2.dist(iris[[\"petal_length\", \"petal_width\"]])\n",
    "iris[\"cluster\"] = iris[[\"dist1\", \"dist2\"]].apply(get_cluster_number, axis = 1)"
   ]
  },
  {
   "cell_type": "code",
   "execution_count": null,
   "metadata": {},
   "outputs": [],
   "source": [
    "plot_centers_and_colorized_data(iris, (c1, c2))"
   ]
  },
  {
   "cell_type": "code",
   "execution_count": null,
   "metadata": {},
   "outputs": [],
   "source": [
    "average_c1_length = np.mean(iris[iris[\"cluster\"] == 0][\"petal_length\"])\n",
    "average_c1_width = np.mean(iris[iris[\"cluster\"] == 0][\"petal_width\"])\n",
    "c1.coordinates = (average_c1_length, average_c1_width)\n",
    "\n",
    "average_c2_length = np.mean(iris[iris[\"cluster\"] == 1][\"petal_length\"])\n",
    "average_c2_width = np.mean(iris[iris[\"cluster\"] == 1][\"petal_width\"])\n",
    "c2.coordinates = (average_c2_length, average_c2_width)"
   ]
  },
  {
   "cell_type": "code",
   "execution_count": null,
   "metadata": {},
   "outputs": [],
   "source": [
    "plot_centers_and_black_data(iris, (c1, c2))"
   ]
  },
  {
   "cell_type": "code",
   "execution_count": null,
   "metadata": {},
   "outputs": [],
   "source": [
    "iris[\"dist1\"] = c1.dist(iris[[\"petal_length\", \"petal_width\"]])\n",
    "iris[\"dist2\"] = c2.dist(iris[[\"petal_length\", \"petal_width\"]])\n",
    "iris[\"cluster\"] = iris[[\"dist1\", \"dist2\"]].apply(get_cluster_number, axis = 1)"
   ]
  },
  {
   "cell_type": "code",
   "execution_count": null,
   "metadata": {},
   "outputs": [],
   "source": [
    "plot_centers_and_colorized_data(iris, (c1, c2))"
   ]
  },
  {
   "cell_type": "code",
   "execution_count": null,
   "metadata": {},
   "outputs": [],
   "source": [
    "average_c1_length = np.mean(iris[iris[\"cluster\"] == 0][\"petal_length\"])\n",
    "average_c1_width = np.mean(iris[iris[\"cluster\"] == 0][\"petal_width\"])\n",
    "c1.coordinates = (average_c1_length, average_c1_width)\n",
    "\n",
    "average_c2_length = np.mean(iris[iris[\"cluster\"] == 1][\"petal_length\"])\n",
    "average_c2_width = np.mean(iris[iris[\"cluster\"] == 1][\"petal_width\"])\n",
    "c2.coordinates = (average_c2_length, average_c2_width)"
   ]
  },
  {
   "cell_type": "code",
   "execution_count": null,
   "metadata": {},
   "outputs": [],
   "source": [
    "plot_centers_and_black_data(iris, (c1, c2))"
   ]
  },
  {
   "cell_type": "code",
   "execution_count": null,
   "metadata": {},
   "outputs": [],
   "source": [
    "iris[\"dist1\"] = c1.dist(iris[[\"petal_length\", \"petal_width\"]])\n",
    "iris[\"dist2\"] = c2.dist(iris[[\"petal_length\", \"petal_width\"]])\n",
    "iris[\"cluster\"] = iris[[\"dist1\", \"dist2\"]].apply(get_cluster_number, axis = 1)"
   ]
  },
  {
   "cell_type": "code",
   "execution_count": null,
   "metadata": {},
   "outputs": [],
   "source": [
    "plot_centers_and_colorized_data(iris, (c1, c2))"
   ]
  },
  {
   "cell_type": "code",
   "execution_count": null,
   "metadata": {},
   "outputs": [],
   "source": [
    "average_c1_length = np.mean(iris[iris[\"cluster\"] == 0][\"petal_length\"])\n",
    "average_c1_width = np.mean(iris[iris[\"cluster\"] == 0][\"petal_width\"])\n",
    "c1.coordinates = (average_c1_length, average_c1_width)\n",
    "\n",
    "average_c2_length = np.mean(iris[iris[\"cluster\"] == 1][\"petal_length\"])\n",
    "average_c2_width = np.mean(iris[iris[\"cluster\"] == 1][\"petal_width\"])\n",
    "c2.coordinates = (average_c2_length, average_c2_width)"
   ]
  },
  {
   "cell_type": "code",
   "execution_count": null,
   "metadata": {},
   "outputs": [],
   "source": [
    "plot_centers_and_black_data(iris, (c1, c2))"
   ]
  },
  {
   "cell_type": "code",
   "execution_count": null,
   "metadata": {},
   "outputs": [],
   "source": [
    "iris[\"dist1\"] = c1.dist(iris[[\"petal_length\", \"petal_width\"]])\n",
    "iris[\"dist2\"] = c2.dist(iris[[\"petal_length\", \"petal_width\"]])\n",
    "iris[\"cluster\"] = iris[[\"dist1\", \"dist2\"]].apply(get_cluster_number, axis = 1)"
   ]
  },
  {
   "cell_type": "code",
   "execution_count": null,
   "metadata": {},
   "outputs": [],
   "source": [
    "plot_centers_and_colorized_data(iris, (c1, c2))"
   ]
  },
  {
   "cell_type": "code",
   "execution_count": null,
   "metadata": {},
   "outputs": [],
   "source": [
    "average_c1_length = np.mean(iris[iris[\"cluster\"] == 0][\"petal_length\"])\n",
    "average_c1_width = np.mean(iris[iris[\"cluster\"] == 0][\"petal_width\"])\n",
    "c1.coordinates = (average_c1_length, average_c1_width)\n",
    "\n",
    "average_c2_length = np.mean(iris[iris[\"cluster\"] == 1][\"petal_length\"])\n",
    "average_c2_width = np.mean(iris[iris[\"cluster\"] == 1][\"petal_width\"])\n",
    "c2.coordinates = (average_c2_length, average_c2_width)"
   ]
  },
  {
   "cell_type": "code",
   "execution_count": null,
   "metadata": {},
   "outputs": [],
   "source": [
    "plot_centers_and_black_data(iris, (c1, c2))"
   ]
  },
  {
   "cell_type": "code",
   "execution_count": null,
   "metadata": {},
   "outputs": [],
   "source": [
    "average_c1_length = np.mean(iris[iris[\"cluster\"] == 0][\"petal_length\"])\n",
    "average_c1_width = np.mean(iris[iris[\"cluster\"] == 0][\"petal_width\"])\n",
    "c1.coordinates = (average_c1_length, average_c1_width)\n",
    "\n",
    "average_c2_length = np.mean(iris[iris[\"cluster\"] == 1][\"petal_length\"])\n",
    "average_c2_width = np.mean(iris[iris[\"cluster\"] == 1][\"petal_width\"])\n",
    "c2.coordinates = (average_c2_length, average_c2_width)"
   ]
  },
  {
   "cell_type": "code",
   "execution_count": null,
   "metadata": {},
   "outputs": [],
   "source": [
    "plot_centers_and_colorized_data(iris, (c1, c2))"
   ]
  },
  {
   "cell_type": "markdown",
   "metadata": {},
   "source": [
    "### Example for K > 2"
   ]
  },
  {
   "cell_type": "code",
   "execution_count": null,
   "metadata": {},
   "outputs": [],
   "source": [
    "import copy\n",
    "def compute_centers_after_N_iterations(data, column_names, centers, N):\n",
    "    centers = copy.deepcopy(centers)\n",
    "    \n",
    "    for i in range(N):\n",
    "        # Recompute clusters        \n",
    "        dist_names = []\n",
    "        for center_num in range(len(centers)):        \n",
    "            data[\"dist\" + str(center_num)] = centers[center_num].dist(data[column_names])\n",
    "            dist_names.append(\"dist\" + str(center_num))\n",
    "        \n",
    "        data[\"cluster\"] = data[dist_names].apply(get_cluster_number, axis = 1)    \n",
    "        \n",
    "        # Update centers\n",
    "        for center_num in range(len(centers)):\n",
    "            for col_num in range(len(column_names)):\n",
    "                col_name = column_names[col_num]\n",
    "    \n",
    "                centers[center_num].coordinates[col_num] = np.mean(data[data[\"cluster\"] == center_num][col_name])\n",
    "\n",
    "    return centers\n"
   ]
  },
  {
   "cell_type": "code",
   "execution_count": null,
   "metadata": {},
   "outputs": [],
   "source": [
    "c1 = Center(iris.loc[:, ['petal_length', 'petal_width']].values)\n",
    "c2 = Center(iris.loc[:, ['petal_length', 'petal_width']].values)\n",
    "c1.coordinates = np.array([2.52364007, 2.31040024])\n",
    "c2.coordinates = np.array([6.53276402, 1.211463])"
   ]
  },
  {
   "cell_type": "code",
   "execution_count": null,
   "metadata": {},
   "outputs": [],
   "source": [
    "def inertia(data, centers):\n",
    "    total_inertia = 0\n",
    "    for center_num in range(len(centers)):\n",
    "        data_in_this_cluster = data[data[\"cluster\"] == center_num]        \n",
    "        total_inertia += np.sum(centers[center_num].dist(data_in_this_cluster[[\"petal_length\", \"petal_width\"]]))\n",
    "    return total_inertia"
   ]
  },
  {
   "cell_type": "code",
   "execution_count": null,
   "metadata": {},
   "outputs": [],
   "source": [
    "def distortion(data, centers):\n",
    "    total_distortion = 0\n",
    "    for center_num in range(len(centers)):\n",
    "        data_in_this_cluster = data[data[\"cluster\"] == center_num]        \n",
    "        total_distortion += np.sum(centers[center_num].dist(data_in_this_cluster[[\"petal_length\", \"petal_width\"]]))/len(data_in_this_cluster)\n",
    "    return total_distortion"
   ]
  },
  {
   "cell_type": "code",
   "execution_count": null,
   "metadata": {
    "scrolled": true
   },
   "outputs": [],
   "source": [
    "random.seed(25)\n",
    "c1 = Center(iris.loc[:, ['petal_length', 'petal_width']].values)\n",
    "c2 = Center(iris.loc[:, ['petal_length', 'petal_width']].values)\n",
    "c3 = Center(iris.loc[:, ['petal_length', 'petal_width']].values)\n",
    "c4 = Center(iris.loc[:, ['petal_length', 'petal_width']].values)\n",
    "new_centers = compute_centers_after_N_iterations(iris, ['petal_length', 'petal_width'], [c1, c2, c3, c4], 12)\n",
    "print(f\"inertia: {inertia(iris, new_centers)}, distortion: {distortion(iris, new_centers)})\")\n",
    "plot_centers_and_colorized_data(iris, new_centers)"
   ]
  },
  {
   "cell_type": "code",
   "execution_count": null,
   "metadata": {},
   "outputs": [],
   "source": [
    "random.seed(29)\n",
    "c1 = Center(iris.loc[:, ['petal_length', 'petal_width']].values)\n",
    "c2 = Center(iris.loc[:, ['petal_length', 'petal_width']].values)\n",
    "c3 = Center(iris.loc[:, ['petal_length', 'petal_width']].values)\n",
    "c4 = Center(iris.loc[:, ['petal_length', 'petal_width']].values)\n",
    "new_centers = compute_centers_after_N_iterations(iris, ['petal_length', 'petal_width'], [c1, c2, c3, c4], 12)\n",
    "print(f\"inertia: {inertia(iris, new_centers)}, distortion: {distortion(iris, new_centers)})\")\n",
    "plot_centers_and_colorized_data(iris, new_centers)"
   ]
  },
  {
   "cell_type": "code",
   "execution_count": null,
   "metadata": {},
   "outputs": [],
   "source": [
    "random.seed(40)\n",
    "c1 = Center(iris.loc[:, ['petal_length', 'petal_width']].values)\n",
    "c2 = Center(iris.loc[:, ['petal_length', 'petal_width']].values)\n",
    "c3 = Center(iris.loc[:, ['petal_length', 'petal_width']].values)\n",
    "c4 = Center(iris.loc[:, ['petal_length', 'petal_width']].values)\n",
    "new_centers = compute_centers_after_N_iterations(iris, ['petal_length', 'petal_width'], [c1, c2, c3, c4], 12)\n",
    "print(f\"inertia: {inertia(iris, new_centers)}, distortion: {distortion(iris, new_centers)})\")\n",
    "plot_centers_and_colorized_data(iris, new_centers)"
   ]
  },
  {
   "cell_type": "code",
   "execution_count": null,
   "metadata": {
    "scrolled": true
   },
   "outputs": [],
   "source": [
    "random.seed(75)\n",
    "c1 = Center(iris.loc[:, ['petal_length', 'petal_width']].values)\n",
    "c2 = Center(iris.loc[:, ['petal_length', 'petal_width']].values)\n",
    "c3 = Center(iris.loc[:, ['petal_length', 'petal_width']].values)\n",
    "c4 = Center(iris.loc[:, ['petal_length', 'petal_width']].values)\n",
    "new_centers = compute_centers_after_N_iterations(iris, ['petal_length', 'petal_width'], [c1, c2, c3, c4], 12)\n",
    "print(f\"inertia: {inertia(iris, new_centers)}, distortion: {distortion(iris, new_centers)})\")\n",
    "plot_centers_and_colorized_data(iris, new_centers)"
   ]
  },
  {
   "cell_type": "markdown",
   "metadata": {},
   "source": [
    "### Example of Inertia Failing to Match Intuition"
   ]
  },
  {
   "cell_type": "code",
   "execution_count": null,
   "metadata": {},
   "outputs": [],
   "source": [
    "c1.coordinates = [1.2, 0.15]\n",
    "c2.coordinates = [4.906000000000001, 1.6760000000000006]\n",
    "iris[\"dist1\"] = c1.dist(iris[[\"petal_length\", \"petal_width\"]])\n",
    "iris[\"dist2\"] = c2.dist(iris[[\"petal_length\", \"petal_width\"]])\n",
    "iris[\"cluster\"] = iris[[\"dist1\", \"dist2\"]].apply(get_cluster_number, axis = 1)"
   ]
  },
  {
   "cell_type": "code",
   "execution_count": null,
   "metadata": {},
   "outputs": [],
   "source": [
    "plot_centers_and_colorized_data(iris, (c1, c2))"
   ]
  },
  {
   "cell_type": "code",
   "execution_count": null,
   "metadata": {},
   "outputs": [],
   "source": [
    "print(f\"inertia: {inertia(iris, [c1, c2])}, distortion: {distortion(iris, [c1, c2])})\")"
   ]
  },
  {
   "cell_type": "code",
   "execution_count": null,
   "metadata": {},
   "outputs": [],
   "source": [
    "average_c1_length = np.mean(iris[iris[\"cluster\"] == 0][\"petal_length\"])\n",
    "average_c1_width = np.mean(iris[iris[\"cluster\"] == 0][\"petal_width\"])\n",
    "c1.coordinates = (average_c1_length, average_c1_width)\n",
    "\n",
    "average_c2_length = np.mean(iris[iris[\"cluster\"] == 1][\"petal_length\"])\n",
    "average_c2_width = np.mean(iris[iris[\"cluster\"] == 1][\"petal_width\"])\n",
    "c2.coordinates = (average_c2_length, average_c2_width)"
   ]
  },
  {
   "cell_type": "code",
   "execution_count": null,
   "metadata": {},
   "outputs": [],
   "source": [
    "plot_centers_and_black_data(iris, (c1, c2))"
   ]
  },
  {
   "cell_type": "code",
   "execution_count": null,
   "metadata": {},
   "outputs": [],
   "source": [
    "iris[\"dist1\"] = c1.dist(iris[[\"petal_length\", \"petal_width\"]])\n",
    "iris[\"dist2\"] = c2.dist(iris[[\"petal_length\", \"petal_width\"]])\n",
    "iris[\"cluster\"] = iris[[\"dist1\", \"dist2\"]].apply(get_cluster_number, axis = 1)"
   ]
  },
  {
   "cell_type": "code",
   "execution_count": null,
   "metadata": {},
   "outputs": [],
   "source": [
    "plot_centers_and_colorized_data(iris, (c1, c2))"
   ]
  },
  {
   "cell_type": "code",
   "execution_count": null,
   "metadata": {},
   "outputs": [],
   "source": [
    "print(f\"inertia: {inertia(iris, [c1, c2])}, distortion: {distortion(iris, [c1, c2])})\")"
   ]
  },
  {
   "cell_type": "markdown",
   "metadata": {},
   "source": [
    "## Hierarchical Agglomerative Clustering"
   ]
  },
  {
   "cell_type": "code",
   "execution_count": null,
   "metadata": {},
   "outputs": [],
   "source": [
    "np.random.seed(42)\n",
    "iris_small = iris.sample(13).loc[:, 'sepal_length':'petal_width'].reset_index(drop=True)\n",
    "iris_small = iris_small.drop(8).reset_index(drop=True)"
   ]
  },
  {
   "cell_type": "code",
   "execution_count": null,
   "metadata": {},
   "outputs": [],
   "source": [
    "sns.scatterplot(data=iris_small, x=\"petal_length\", y=\"petal_width\", color=\"black\");"
   ]
  },
  {
   "cell_type": "code",
   "execution_count": null,
   "metadata": {},
   "outputs": [],
   "source": [
    "iris_small[\"cluster\"] = np.array(range(0, len(iris_small)))"
   ]
  },
  {
   "cell_type": "code",
   "execution_count": null,
   "metadata": {},
   "outputs": [],
   "source": [
    "iris_small"
   ]
  },
  {
   "cell_type": "code",
   "execution_count": null,
   "metadata": {},
   "outputs": [],
   "source": [
    "def plot_clusters(data):\n",
    "    fig= plt.figure()\n",
    "    p1 = sns.scatterplot(data=data, x=\"petal_length\", y=\"petal_width\")\n",
    "    # plt.axis('equal')\n",
    "    for line in range(0,data.shape[0]):\n",
    "         p1.text(data[\"petal_length\"][line]+0.05, data[\"petal_width\"][line] - 0.03,   \n",
    "         data[\"cluster\"][line], horizontalalignment='left', \n",
    "         size='medium', color='black', weight='semibold')\n",
    "    ax = plt.gca()\n",
    "    plt.ylim(data[\"petal_width\"].min()-0.5, data[\"petal_width\"].max()+0.15)\n",
    "    plt.xlim(data[\"petal_length\"].min()-0.15, data[\"petal_length\"].max()+0.15)\n",
    "    ax.set_aspect('equal', adjustable='box')\n",
    "    # plt.savefig(f\"img_output/original.png\", bbox_inches='tight')\n",
    "    return fig\n",
    "            \n",
    "fig = plot_clusters(iris_small)"
   ]
  },
  {
   "cell_type": "code",
   "execution_count": null,
   "metadata": {},
   "outputs": [],
   "source": [
    "from scipy.spatial.distance import cdist\n",
    "\n",
    "def closest_clusters(data):\n",
    "    cluster_values = data[\"cluster\"].unique()\n",
    "\n",
    "    closest_pairs = []\n",
    "    processed_pairs = set()\n",
    "\n",
    "    while len(closest_pairs) < 3:\n",
    "        smallest_distance = float(\"inf\")\n",
    "        best_pair = None\n",
    "\n",
    "        for i, cnum1 in enumerate(cluster_values):\n",
    "            for cnum2 in cluster_values[i+1:]:\n",
    "                if (cnum1, cnum2) in processed_pairs or (cnum2, cnum1) in processed_pairs:\n",
    "                    continue\n",
    "\n",
    "                # Calculate the maximum distance between any two points in the clusters\n",
    "                cluster1_points = data[data[\"cluster\"] == cnum1][[\"petal_length\", \"petal_width\"]]\n",
    "                cluster2_points = data[data[\"cluster\"] == cnum2][[\"petal_length\", \"petal_width\"]]\n",
    "                max_dist = cdist(cluster1_points, cluster2_points).max()\n",
    "\n",
    "                if max_dist < smallest_distance:\n",
    "                    smallest_distance = max_dist\n",
    "                    best_pair = (cnum1, cnum2)\n",
    "\n",
    "        if best_pair:\n",
    "            closest_pairs.append((best_pair[0], best_pair[1], smallest_distance))\n",
    "            processed_pairs.add(best_pair)\n",
    "\n",
    "    return closest_pairs"
   ]
  },
  {
   "cell_type": "code",
   "execution_count": null,
   "metadata": {},
   "outputs": [],
   "source": [
    "def merge_clusters(data, cnum1, cnum2):\n",
    "    # Merge the second cluster into the first\n",
    "    data.loc[data[\"cluster\"] == cnum2, \"cluster\"] = cnum1"
   ]
  },
  {
   "cell_type": "code",
   "execution_count": null,
   "metadata": {},
   "outputs": [],
   "source": [
    "import matplotlib.cm as cm\n",
    "from scipy.spatial import distance\n",
    "\n",
    "def plot_clusters(iteration, data, top_pairs):\n",
    "    fig= plt.figure(figsize=(16, 14))\n",
    "    p1 = sns.scatterplot(\n",
    "        data=data,\n",
    "        x=\"petal_length\",\n",
    "        y=\"petal_width\",\n",
    "        hue=\"cluster\",\n",
    "        palette=\"viridis\",\n",
    "        legend=False,\n",
    "        s=200\n",
    "    )\n",
    "    # plt.axis('equal')\n",
    "\n",
    "    for line in range(0, data.shape[0]):\n",
    "        p1.text(\n",
    "            data[\"petal_length\"][line] + 0.05,\n",
    "            data[\"petal_width\"][line] - 0.03,\n",
    "            data[\"cluster\"][line],\n",
    "            horizontalalignment='left',\n",
    "            size=18, \n",
    "            color='black',\n",
    "            weight='semibold'\n",
    "        )\n",
    "\n",
    "    # Use a consistent colormap for the top 3 pairs in this iteration\n",
    "    cmap = cm.get_cmap('Set1', len(top_pairs))  \n",
    "    legend_lines = []  \n",
    "\n",
    "    for i, (cnum1, cnum2, dist) in enumerate(top_pairs):\n",
    "        cluster1_points = data[data[\"cluster\"] == cnum1]\n",
    "        cluster2_points = data[data[\"cluster\"] == cnum2]\n",
    "        \n",
    "        if cluster1_points.empty or cluster2_points.empty:\n",
    "            continue\n",
    "        \n",
    "        # Find the two points contributing to the maximum distance\n",
    "        dists = distance.cdist(\n",
    "            cluster1_points[[\"petal_length\", \"petal_width\"]],\n",
    "            cluster2_points[[\"petal_length\", \"petal_width\"]]\n",
    "        )\n",
    "        max_dist_idx = np.unravel_index(np.argmax(dists), dists.shape) \n",
    "        point1 = cluster1_points.iloc[max_dist_idx[0]]\n",
    "        point2 = cluster2_points.iloc[max_dist_idx[1]]\n",
    "        \n",
    "        # Draw the line between these points with a unique color\n",
    "        line_color = cmap(i)\n",
    "        plt.plot(\n",
    "            [point1[\"petal_length\"], point2[\"petal_length\"]],\n",
    "            [point1[\"petal_width\"], point2[\"petal_width\"]],\n",
    "            linestyle='-',\n",
    "            color=line_color,\n",
    "            linewidth=4, \n",
    "            label=f\"{dist:.2f}\"\n",
    "        )\n",
    "\n",
    "        legend_lines.append((f\"{dist:.2f}\", line_color))\n",
    "\n",
    "    legend_labels = [f\"Distance: {dist}\" for dist, _ in legend_lines]\n",
    "    legend_colors = [color for _, color in legend_lines]\n",
    "    handles = [\n",
    "        plt.Line2D([0], [0], color=color, linestyle='-', lw=4) \n",
    "        for color in legend_colors\n",
    "    ]\n",
    "    plt.legend(handles, legend_labels, title=\"Line Distances\", loc='upper right', fontsize=18, title_fontsize=20)\n",
    "\n",
    "    plt.title(f'Hierarchical Clustering Progression (Iteration {iteration})', fontsize=24, weight='bold')\n",
    "    plt.xlabel('Petal Length', fontsize=20)\n",
    "    plt.ylabel('Petal Width', fontsize=20)\n",
    "    plt.grid()\n",
    "    plt.xticks(fontsize=18)\n",
    "    plt.yticks(fontsize=18)\n",
    "    plt.legend(\n",
    "        handles, \n",
    "        legend_labels, \n",
    "        title=\"Line Distances\", \n",
    "        loc='upper left', \n",
    "        fontsize=20,\n",
    "        title_fontsize=22,\n",
    "        labelspacing=1.2,\n",
    "        handlelength=3,\n",
    "        borderpad=1,\n",
    "        frameon=True\n",
    "    )\n",
    "    ax = plt.gca()\n",
    "    plt.ylim(data[\"petal_width\"].min()-0.5, data[\"petal_width\"].max()+0.15)\n",
    "    plt.xlim(data[\"petal_length\"].min()-0.15, data[\"petal_length\"].max()+0.15)\n",
    "    ax.set_aspect('equal', adjustable='box')\n",
    "    # plt.savefig(f\"img_output/Clustering_Iteration_{iteration}.png\", bbox_inches='tight')\n",
    "    plt.show()\n",
    "    return fig\n",
    "\n",
    "# Perform clustering with proper annotations\n",
    "i = 0\n",
    "while len(iris_small[\"cluster\"].unique()) != 2:\n",
    "    i += 1\n",
    "    top_pairs = closest_clusters(iris_small)  # Get top 3 closest pairs\n",
    "    plot_clusters(i, iris_small, top_pairs=top_pairs)  # Plot distances first\n",
    "    cnum1, cnum2, _ = top_pairs[0]  # Take the closest pair to merge\n",
    "    merge_clusters(iris_small, cnum1, cnum2)  # Merge after plotting distances\n"
   ]
  },
  {
   "cell_type": "code",
   "execution_count": null,
   "metadata": {},
   "outputs": [],
   "source": [
    "fig = plot_clusters(11, iris_small, top_pairs=top_pairs)  # Final clusters"
   ]
  },
  {
   "cell_type": "markdown",
   "metadata": {},
   "source": [
    "## Run on full dataset"
   ]
  },
  {
   "cell_type": "code",
   "execution_count": null,
   "metadata": {},
   "outputs": [],
   "source": [
    "def plot_clusters(data):\n",
    "    fig = plt.figure()\n",
    "    p1 = sns.scatterplot(data=data, x=\"petal_length\", y=\"petal_width\")\n",
    "    plt.axis('equal')\n",
    "    for line in range(0,data.shape[0]):\n",
    "         p1.text(data[\"petal_length\"][line]+0.05, data[\"petal_width\"][line] - 0.03,   \n",
    "         data[\"cluster\"][line], horizontalalignment='left', \n",
    "         size='medium', color='black', weight='semibold')\n",
    "    return fig\n",
    "\n",
    "iris_small = iris.copy()\n",
    "iris_small[\"cluster\"] = np.array(range(0, len(iris_small)))\n",
    "fig = plot_clusters(iris_small)"
   ]
  },
  {
   "cell_type": "code",
   "execution_count": null,
   "metadata": {},
   "outputs": [],
   "source": [
    "from sklearn.cluster import AgglomerativeClustering\n",
    "clustering = AgglomerativeClustering().fit(iris[[\"petal_length\", \"petal_width\"]])"
   ]
  },
  {
   "cell_type": "code",
   "execution_count": null,
   "metadata": {},
   "outputs": [],
   "source": [
    "clustering.labels_"
   ]
  },
  {
   "cell_type": "code",
   "execution_count": null,
   "metadata": {},
   "outputs": [],
   "source": [
    "iris[\"cluster\"] = clustering.labels_"
   ]
  },
  {
   "cell_type": "code",
   "execution_count": null,
   "metadata": {},
   "outputs": [],
   "source": [
    "sns.scatterplot(data=iris, x=\"petal_length\", y=\"petal_width\", \n",
    "                hue =\"cluster\", legend=None);\n",
    "plt.axis('equal');"
   ]
  },
  {
   "cell_type": "code",
   "execution_count": null,
   "metadata": {},
   "outputs": [],
   "source": [
    "fig = plot_clusters(iris)"
   ]
  },
  {
   "cell_type": "code",
   "execution_count": null,
   "metadata": {},
   "outputs": [],
   "source": [
    "# From https://github.com/scikit-learn/scikit-learn/blob/70cf4a676caa2d2dad2e3f6e4478d64bcb0506f7/examples/cluster/plot_hierarchical_clustering_dendrogram.py\n",
    "from scipy.cluster.hierarchy import dendrogram\n",
    "\n",
    "def plot_dendrogram(model, **kwargs):\n",
    "    # Children of hierarchical clustering\n",
    "    children = model.children_\n",
    "\n",
    "    # Distances between each pair of children\n",
    "    # Since we don't have this information, we can use a uniform one for plotting\n",
    "    distance = np.arange(children.shape[0])\n",
    "\n",
    "    # The number of observations contained in each cluster level\n",
    "    no_of_observations = np.arange(2, children.shape[0]+2)\n",
    "\n",
    "    # Create linkage matrix and then plot the dendrogram\n",
    "    linkage_matrix = np.column_stack([children, distance, no_of_observations]).astype(float)\n",
    "\n",
    "    # Plot the corresponding dendrogram\n",
    "    dendrogram(linkage_matrix, **kwargs)\n",
    "\n",
    "\n",
    "\n",
    "plt.title('Hierarchical Clustering Dendrogram')\n",
    "plot_dendrogram(clustering, labels=clustering.labels_)"
   ]
  },
  {
   "cell_type": "code",
   "execution_count": null,
   "metadata": {},
   "outputs": [],
   "source": [
    "from sklearn.preprocessing import StandardScaler\n",
    "from scipy.cluster.hierarchy import dendrogram, linkage\n",
    "\n",
    "scaler = StandardScaler()\n",
    "iris_small_scaled = scaler.fit_transform(iris[[\"petal_length\", \"petal_width\"]])\n",
    "\n",
    "# Perform hierarchical clustering\n",
    "linkage_matrix_small = linkage(iris_small_scaled, method='ward')\n",
    "\n",
    "# Plot the dendrogram\n",
    "plt.figure(figsize=(10, 6))\n",
    "dendrogram(\n",
    "    linkage_matrix_small,\n",
    "    truncate_mode='lastp',\n",
    "    p=10,\n",
    "    leaf_rotation=90.,\n",
    "    leaf_font_size=12.,\n",
    "    show_contracted=True\n",
    ")\n",
    "plt.title('Dendrogram for Hierarchical Clustering')\n",
    "plt.xlabel('Sample Index or Cluster Size')\n",
    "plt.ylabel('Distance')\n",
    "plt.axhline(y=5, color='r', linestyle='--', label='Cut at Large Gap')\n",
    "plt.legend()\n",
    "plt.show()"
   ]
  },
  {
   "cell_type": "markdown",
   "metadata": {},
   "source": [
    "### Elbow Method"
   ]
  },
  {
   "cell_type": "code",
   "execution_count": null,
   "metadata": {},
   "outputs": [],
   "source": [
    "from sklearn.cluster import KMeans \n",
    "distortions = [] \n",
    "inertias = [] \n",
    "mapping1 = {} \n",
    "mapping2 = {} \n",
    "K = range(1,10) \n",
    "X = iris[[\"petal_length\", \"petal_width\"]]\n",
    "    \n",
    "for k in K: \n",
    "    # Building and fitting the model \n",
    "    kmeanModel = KMeans(n_clusters=k).fit(X)     \n",
    "      \n",
    "    distortions.append(sum(np.min(distance.cdist(X, kmeanModel.cluster_centers_, \n",
    "                      'euclidean'),axis=1)) / X.shape[0]) \n",
    "    inertias.append(kmeanModel.inertia_) \n",
    "  \n",
    "    mapping1[k] = sum(np.min(distance.cdist(X, kmeanModel.cluster_centers_, \n",
    "                 'euclidean'),axis=1)) / X.shape[0] \n",
    "    mapping2[k] = kmeanModel.inertia_ "
   ]
  },
  {
   "cell_type": "code",
   "execution_count": null,
   "metadata": {},
   "outputs": [],
   "source": [
    "plt.plot(K, inertias, 'bx-') \n",
    "plt.xlabel('Values of K') \n",
    "plt.ylabel('Inertia') \n",
    "plt.title('The Elbow Method using Inertia');"
   ]
  },
  {
   "cell_type": "code",
   "execution_count": null,
   "metadata": {},
   "outputs": [],
   "source": [
    "# Analyze clustering results for k=3 (optimal) and k=6 (suboptimal)\n",
    "k_values_to_analyze = [3, 6]\n",
    "results = {}\n",
    "\n",
    "for k in k_values_to_analyze:\n",
    "    kmeans = KMeans(n_clusters=k, random_state=42)\n",
    "    clusters = kmeans.fit_predict(iris[['petal_length', 'petal_width']])\n",
    "    results[k] = {\n",
    "        \"model\": kmeans,\n",
    "        \"clusters\": clusters\n",
    "    }\n",
    "\n",
    "# Plot the clustering results\n",
    "for k, result in results.items():\n",
    "    plt.figure(figsize=(8, 5))\n",
    "    plt.scatter(\n",
    "        iris['petal_length'],\n",
    "        iris['petal_width'],\n",
    "        c=result['clusters'],\n",
    "        cmap='viridis',\n",
    "        s=50,\n",
    "        alpha=0.7\n",
    "    )\n",
    "    plt.scatter(\n",
    "        result['model'].cluster_centers_[:, 0],\n",
    "        result['model'].cluster_centers_[:, 1],\n",
    "        c='red',\n",
    "        marker='X',\n",
    "        s=200,\n",
    "        label='Centroids'\n",
    "    )\n",
    "    plt.title(f'Clustering Results for k = {k}')\n",
    "    plt.xlabel('Petal Length')\n",
    "    plt.ylabel('Petal Width')\n",
    "    plt.legend()\n",
    "    plt.grid()\n",
    "    plt.show()\n"
   ]
  },
  {
   "cell_type": "markdown",
   "metadata": {},
   "source": [
    "### Silhouette Scores"
   ]
  },
  {
   "cell_type": "code",
   "execution_count": null,
   "metadata": {},
   "outputs": [],
   "source": [
    "X.loc[(X[\"petal_length\"] < 3.2) & (X[\"petal_length\"] > 2)]"
   ]
  },
  {
   "cell_type": "code",
   "execution_count": null,
   "metadata": {},
   "outputs": [],
   "source": [
    "from sklearn.metrics import silhouette_samples, silhouette_score\n",
    "import matplotlib.cm as cm\n",
    "\n",
    "fig, ax1 = plt.subplots(1, 1)\n",
    "\n",
    "n_clusters = 2\n",
    "\n",
    "# The 1st subplot is the silhouette plot.\n",
    "# The silhouette coefficient can range from -1, 1 but in this example all\n",
    "# lie within [-0.1, 1]\n",
    "ax1.set_xlim([-0.1, 1])\n",
    "# The (n_clusters+1)*10 is for inserting blank space between silhouette\n",
    "# plots of individual clusters, to demarcate them clearly.\n",
    "ax1.set_ylim([0, len(X) + (n_clusters + 1) * 10])\n",
    "\n",
    "cluster_labels = clustering.fit_predict(X)\n",
    "\n",
    "\n",
    "# The silhouette_score gives the average value for all the samples.\n",
    "# This gives a perspective into the density and separation of the formed clusters\n",
    "silhouette_avg = silhouette_score(X, cluster_labels)\n",
    "print(\"For n_clusters =\", n_clusters,\n",
    "      \"The average silhouette_score is :\", silhouette_avg)\n",
    "\n",
    "# Compute the silhouette scores for each sample\n",
    "sample_silhouette_values = silhouette_samples(X, cluster_labels)\n",
    "\n",
    "y_lower = 10\n",
    "for i in range(n_clusters):\n",
    "    # Aggregate the silhouette scores for samples belonging to\n",
    "    # cluster i, and sort them\n",
    "    ith_cluster_silhouette_values = \\\n",
    "        sample_silhouette_values[cluster_labels == i]\n",
    "\n",
    "    ith_cluster_silhouette_values.sort()\n",
    "\n",
    "    size_cluster_i = ith_cluster_silhouette_values.shape[0]\n",
    "    y_upper = y_lower + size_cluster_i\n",
    "\n",
    "    color = cm.nipy_spectral(float(i) / n_clusters)\n",
    "    ax1.fill_betweenx(np.arange(y_lower, y_upper),\n",
    "                      0, ith_cluster_silhouette_values,\n",
    "                      facecolor=color, edgecolor=color, alpha=0.7)\n",
    "\n",
    "    # Label the silhouette plots with their cluster numbers at the middle\n",
    "    ax1.text(-0.05, y_lower + 0.5 * size_cluster_i, str(i))\n",
    "\n",
    "    # Compute the new y_lower for next plot\n",
    "    y_lower = y_upper + 10  # 10 for the 0 samples\n",
    "\n",
    "ax1.set_title(\"The silhouette plot for the various clusters.\")\n",
    "ax1.set_xlabel(\"The silhouette coefficient values\")\n",
    "ax1.set_ylabel(\"Cluster label\")\n",
    "\n",
    "# The vertical line for average silhouette score of all the values\n",
    "ax1.axvline(x=silhouette_avg, color=\"red\", linestyle=\"--\");"
   ]
  },
  {
   "cell_type": "code",
   "execution_count": null,
   "metadata": {},
   "outputs": [],
   "source": [
    "min(sample_silhouette_values)"
   ]
  },
  {
   "cell_type": "code",
   "execution_count": null,
   "metadata": {},
   "outputs": [],
   "source": [
    "from sklearn.cluster import AgglomerativeClustering\n",
    "clustering = AgglomerativeClustering(n_clusters = 3).fit(iris[[\"petal_length\", \"petal_width\"]])\n",
    "\n",
    "\n",
    "fig, ax1 = plt.subplots(1, 1)\n",
    "\n",
    "n_clusters = 3\n",
    "\n",
    "# The 1st subplot is the silhouette plot\n",
    "# The silhouette coefficient can range from -1, 1 but in this example all\n",
    "# lie within [-0.1, 1]\n",
    "ax1.set_xlim([-0.1, 1])\n",
    "# The (n_clusters+1)*10 is for inserting blank space between silhouette\n",
    "# plots of individual clusters, to demarcate them clearly.\n",
    "ax1.set_ylim([0, len(X) + (n_clusters + 1) * 10])\n",
    "\n",
    "cluster_labels = clustering.fit_predict(X)\n",
    "\n",
    "# The silhouette_score gives the average value for all the samples.\n",
    "# This gives a perspective into the density and separation of the formed clusters\n",
    "silhouette_avg = silhouette_score(X, cluster_labels)\n",
    "print(\"For n_clusters =\", n_clusters,\n",
    "      \"The average silhouette_score is :\", silhouette_avg)\n",
    "\n",
    "# Compute the silhouette scores for each sample\n",
    "sample_silhouette_values = silhouette_samples(X, cluster_labels)\n",
    "\n",
    "y_lower = 10\n",
    "for i in range(n_clusters):\n",
    "    # Aggregate the silhouette scores for samples belonging to\n",
    "    # cluster i, and sort them\n",
    "    ith_cluster_silhouette_values = \\\n",
    "        sample_silhouette_values[cluster_labels == i]\n",
    "\n",
    "    ith_cluster_silhouette_values.sort()\n",
    "\n",
    "    size_cluster_i = ith_cluster_silhouette_values.shape[0]\n",
    "    y_upper = y_lower + size_cluster_i\n",
    "\n",
    "    color = cm.nipy_spectral(float(i) / n_clusters)\n",
    "    ax1.fill_betweenx(np.arange(y_lower, y_upper),\n",
    "                      0, ith_cluster_silhouette_values,\n",
    "                      facecolor=color, edgecolor=color, alpha=0.7)\n",
    "\n",
    "    # Label the silhouette plots with their cluster numbers at the middle\n",
    "    ax1.text(-0.05, y_lower + 0.5 * size_cluster_i, str(i))\n",
    "\n",
    "    # Compute the new y_lower for next plot\n",
    "    y_lower = y_upper + 10  # 10 for the 0 samples\n",
    "\n",
    "ax1.set_title(\"The silhouette plot for the various clusters.\")\n",
    "ax1.set_xlabel(\"The silhouette coefficient values\")\n",
    "ax1.set_ylabel(\"Cluster label\")\n",
    "\n",
    "# The vertical line for the average silhouette score of all the values\n",
    "ax1.axvline(x=silhouette_avg, color=\"red\", linestyle=\"--\");"
   ]
  },
  {
   "cell_type": "code",
   "execution_count": null,
   "metadata": {},
   "outputs": [],
   "source": [
    "min(sample_silhouette_values)"
   ]
  },
  {
   "cell_type": "code",
   "execution_count": null,
   "metadata": {},
   "outputs": [],
   "source": [
    "iris[\"cluster\"] = cluster_labels\n",
    "current_palette = sns.color_palette()[0:3]\n",
    "sns.scatterplot(data = iris, x = \"petal_length\", y= \"petal_width\", hue=\"cluster\", palette = current_palette);\n",
    "plt.axis('equal');"
   ]
  }
 ],
 "metadata": {
  "kernelspec": {
   "display_name": "Python 3 (ipykernel)",
   "language": "python",
   "name": "python3"
  },
  "language_info": {
   "codemirror_mode": {
    "name": "ipython",
    "version": 3
   },
   "file_extension": ".py",
   "mimetype": "text/x-python",
   "name": "python",
   "nbconvert_exporter": "python",
   "pygments_lexer": "ipython3",
   "version": "3.12.1"
  }
 },
 "nbformat": 4,
 "nbformat_minor": 4
}
